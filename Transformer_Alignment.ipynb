{
  "nbformat": 4,
  "nbformat_minor": 0,
  "metadata": {
    "colab": {
      "provenance": []
    },
    "kernelspec": {
      "name": "python3",
      "display_name": "Python 3"
    },
    "language_info": {
      "name": "python"
    },
    "widgets": {
      "application/vnd.jupyter.widget-state+json": {
        "c14d6ef17a3b401fb8541eab1c36282b": {
          "model_module": "@jupyter-widgets/controls",
          "model_name": "HBoxModel",
          "model_module_version": "1.5.0",
          "state": {
            "_dom_classes": [],
            "_model_module": "@jupyter-widgets/controls",
            "_model_module_version": "1.5.0",
            "_model_name": "HBoxModel",
            "_view_count": null,
            "_view_module": "@jupyter-widgets/controls",
            "_view_module_version": "1.5.0",
            "_view_name": "HBoxView",
            "box_style": "",
            "children": [
              "IPY_MODEL_a7d38546ef3d4aeea57afd7509f0a1dd",
              "IPY_MODEL_00ab2c5d4fcd46b6857155268750a084",
              "IPY_MODEL_199ba02c3d9d43cc92025679a9136369"
            ],
            "layout": "IPY_MODEL_fc8c095d7f1b4ce38eec20085e5b73b9"
          }
        },
        "a7d38546ef3d4aeea57afd7509f0a1dd": {
          "model_module": "@jupyter-widgets/controls",
          "model_name": "HTMLModel",
          "model_module_version": "1.5.0",
          "state": {
            "_dom_classes": [],
            "_model_module": "@jupyter-widgets/controls",
            "_model_module_version": "1.5.0",
            "_model_name": "HTMLModel",
            "_view_count": null,
            "_view_module": "@jupyter-widgets/controls",
            "_view_module_version": "1.5.0",
            "_view_name": "HTMLView",
            "description": "",
            "description_tooltip": null,
            "layout": "IPY_MODEL_8ab89a62bef74f3f977626d3515ce1bd",
            "placeholder": "​",
            "style": "IPY_MODEL_d200b9a76f49431f855229d78049fd55",
            "value": "tokenizer_config.json: 100%"
          }
        },
        "00ab2c5d4fcd46b6857155268750a084": {
          "model_module": "@jupyter-widgets/controls",
          "model_name": "FloatProgressModel",
          "model_module_version": "1.5.0",
          "state": {
            "_dom_classes": [],
            "_model_module": "@jupyter-widgets/controls",
            "_model_module_version": "1.5.0",
            "_model_name": "FloatProgressModel",
            "_view_count": null,
            "_view_module": "@jupyter-widgets/controls",
            "_view_module_version": "1.5.0",
            "_view_name": "ProgressView",
            "bar_style": "success",
            "description": "",
            "description_tooltip": null,
            "layout": "IPY_MODEL_9d725aac9b8a40d4ab9d54db3b409457",
            "max": 48,
            "min": 0,
            "orientation": "horizontal",
            "style": "IPY_MODEL_f1bc844353014645986600d1ef071c25",
            "value": 48
          }
        },
        "199ba02c3d9d43cc92025679a9136369": {
          "model_module": "@jupyter-widgets/controls",
          "model_name": "HTMLModel",
          "model_module_version": "1.5.0",
          "state": {
            "_dom_classes": [],
            "_model_module": "@jupyter-widgets/controls",
            "_model_module_version": "1.5.0",
            "_model_name": "HTMLModel",
            "_view_count": null,
            "_view_module": "@jupyter-widgets/controls",
            "_view_module_version": "1.5.0",
            "_view_name": "HTMLView",
            "description": "",
            "description_tooltip": null,
            "layout": "IPY_MODEL_b1148e9989e447d99cf25c6d87b2a980",
            "placeholder": "​",
            "style": "IPY_MODEL_8025ee47b00b4c7e9cae889959c8d5d2",
            "value": " 48.0/48.0 [00:00&lt;00:00, 4.51kB/s]"
          }
        },
        "fc8c095d7f1b4ce38eec20085e5b73b9": {
          "model_module": "@jupyter-widgets/base",
          "model_name": "LayoutModel",
          "model_module_version": "1.2.0",
          "state": {
            "_model_module": "@jupyter-widgets/base",
            "_model_module_version": "1.2.0",
            "_model_name": "LayoutModel",
            "_view_count": null,
            "_view_module": "@jupyter-widgets/base",
            "_view_module_version": "1.2.0",
            "_view_name": "LayoutView",
            "align_content": null,
            "align_items": null,
            "align_self": null,
            "border": null,
            "bottom": null,
            "display": null,
            "flex": null,
            "flex_flow": null,
            "grid_area": null,
            "grid_auto_columns": null,
            "grid_auto_flow": null,
            "grid_auto_rows": null,
            "grid_column": null,
            "grid_gap": null,
            "grid_row": null,
            "grid_template_areas": null,
            "grid_template_columns": null,
            "grid_template_rows": null,
            "height": null,
            "justify_content": null,
            "justify_items": null,
            "left": null,
            "margin": null,
            "max_height": null,
            "max_width": null,
            "min_height": null,
            "min_width": null,
            "object_fit": null,
            "object_position": null,
            "order": null,
            "overflow": null,
            "overflow_x": null,
            "overflow_y": null,
            "padding": null,
            "right": null,
            "top": null,
            "visibility": null,
            "width": null
          }
        },
        "8ab89a62bef74f3f977626d3515ce1bd": {
          "model_module": "@jupyter-widgets/base",
          "model_name": "LayoutModel",
          "model_module_version": "1.2.0",
          "state": {
            "_model_module": "@jupyter-widgets/base",
            "_model_module_version": "1.2.0",
            "_model_name": "LayoutModel",
            "_view_count": null,
            "_view_module": "@jupyter-widgets/base",
            "_view_module_version": "1.2.0",
            "_view_name": "LayoutView",
            "align_content": null,
            "align_items": null,
            "align_self": null,
            "border": null,
            "bottom": null,
            "display": null,
            "flex": null,
            "flex_flow": null,
            "grid_area": null,
            "grid_auto_columns": null,
            "grid_auto_flow": null,
            "grid_auto_rows": null,
            "grid_column": null,
            "grid_gap": null,
            "grid_row": null,
            "grid_template_areas": null,
            "grid_template_columns": null,
            "grid_template_rows": null,
            "height": null,
            "justify_content": null,
            "justify_items": null,
            "left": null,
            "margin": null,
            "max_height": null,
            "max_width": null,
            "min_height": null,
            "min_width": null,
            "object_fit": null,
            "object_position": null,
            "order": null,
            "overflow": null,
            "overflow_x": null,
            "overflow_y": null,
            "padding": null,
            "right": null,
            "top": null,
            "visibility": null,
            "width": null
          }
        },
        "d200b9a76f49431f855229d78049fd55": {
          "model_module": "@jupyter-widgets/controls",
          "model_name": "DescriptionStyleModel",
          "model_module_version": "1.5.0",
          "state": {
            "_model_module": "@jupyter-widgets/controls",
            "_model_module_version": "1.5.0",
            "_model_name": "DescriptionStyleModel",
            "_view_count": null,
            "_view_module": "@jupyter-widgets/base",
            "_view_module_version": "1.2.0",
            "_view_name": "StyleView",
            "description_width": ""
          }
        },
        "9d725aac9b8a40d4ab9d54db3b409457": {
          "model_module": "@jupyter-widgets/base",
          "model_name": "LayoutModel",
          "model_module_version": "1.2.0",
          "state": {
            "_model_module": "@jupyter-widgets/base",
            "_model_module_version": "1.2.0",
            "_model_name": "LayoutModel",
            "_view_count": null,
            "_view_module": "@jupyter-widgets/base",
            "_view_module_version": "1.2.0",
            "_view_name": "LayoutView",
            "align_content": null,
            "align_items": null,
            "align_self": null,
            "border": null,
            "bottom": null,
            "display": null,
            "flex": null,
            "flex_flow": null,
            "grid_area": null,
            "grid_auto_columns": null,
            "grid_auto_flow": null,
            "grid_auto_rows": null,
            "grid_column": null,
            "grid_gap": null,
            "grid_row": null,
            "grid_template_areas": null,
            "grid_template_columns": null,
            "grid_template_rows": null,
            "height": null,
            "justify_content": null,
            "justify_items": null,
            "left": null,
            "margin": null,
            "max_height": null,
            "max_width": null,
            "min_height": null,
            "min_width": null,
            "object_fit": null,
            "object_position": null,
            "order": null,
            "overflow": null,
            "overflow_x": null,
            "overflow_y": null,
            "padding": null,
            "right": null,
            "top": null,
            "visibility": null,
            "width": null
          }
        },
        "f1bc844353014645986600d1ef071c25": {
          "model_module": "@jupyter-widgets/controls",
          "model_name": "ProgressStyleModel",
          "model_module_version": "1.5.0",
          "state": {
            "_model_module": "@jupyter-widgets/controls",
            "_model_module_version": "1.5.0",
            "_model_name": "ProgressStyleModel",
            "_view_count": null,
            "_view_module": "@jupyter-widgets/base",
            "_view_module_version": "1.2.0",
            "_view_name": "StyleView",
            "bar_color": null,
            "description_width": ""
          }
        },
        "b1148e9989e447d99cf25c6d87b2a980": {
          "model_module": "@jupyter-widgets/base",
          "model_name": "LayoutModel",
          "model_module_version": "1.2.0",
          "state": {
            "_model_module": "@jupyter-widgets/base",
            "_model_module_version": "1.2.0",
            "_model_name": "LayoutModel",
            "_view_count": null,
            "_view_module": "@jupyter-widgets/base",
            "_view_module_version": "1.2.0",
            "_view_name": "LayoutView",
            "align_content": null,
            "align_items": null,
            "align_self": null,
            "border": null,
            "bottom": null,
            "display": null,
            "flex": null,
            "flex_flow": null,
            "grid_area": null,
            "grid_auto_columns": null,
            "grid_auto_flow": null,
            "grid_auto_rows": null,
            "grid_column": null,
            "grid_gap": null,
            "grid_row": null,
            "grid_template_areas": null,
            "grid_template_columns": null,
            "grid_template_rows": null,
            "height": null,
            "justify_content": null,
            "justify_items": null,
            "left": null,
            "margin": null,
            "max_height": null,
            "max_width": null,
            "min_height": null,
            "min_width": null,
            "object_fit": null,
            "object_position": null,
            "order": null,
            "overflow": null,
            "overflow_x": null,
            "overflow_y": null,
            "padding": null,
            "right": null,
            "top": null,
            "visibility": null,
            "width": null
          }
        },
        "8025ee47b00b4c7e9cae889959c8d5d2": {
          "model_module": "@jupyter-widgets/controls",
          "model_name": "DescriptionStyleModel",
          "model_module_version": "1.5.0",
          "state": {
            "_model_module": "@jupyter-widgets/controls",
            "_model_module_version": "1.5.0",
            "_model_name": "DescriptionStyleModel",
            "_view_count": null,
            "_view_module": "@jupyter-widgets/base",
            "_view_module_version": "1.2.0",
            "_view_name": "StyleView",
            "description_width": ""
          }
        },
        "4573207d76ae4e0dbbde1af318930273": {
          "model_module": "@jupyter-widgets/controls",
          "model_name": "HBoxModel",
          "model_module_version": "1.5.0",
          "state": {
            "_dom_classes": [],
            "_model_module": "@jupyter-widgets/controls",
            "_model_module_version": "1.5.0",
            "_model_name": "HBoxModel",
            "_view_count": null,
            "_view_module": "@jupyter-widgets/controls",
            "_view_module_version": "1.5.0",
            "_view_name": "HBoxView",
            "box_style": "",
            "children": [
              "IPY_MODEL_8c684af0590344029d559b338f73bb32",
              "IPY_MODEL_c97b49464af5469398508bb44e53cbe2",
              "IPY_MODEL_990dbe5333c7426f921b8242baa7a26a"
            ],
            "layout": "IPY_MODEL_1c301ff3e4db46c98b37a6e0ed268dee"
          }
        },
        "8c684af0590344029d559b338f73bb32": {
          "model_module": "@jupyter-widgets/controls",
          "model_name": "HTMLModel",
          "model_module_version": "1.5.0",
          "state": {
            "_dom_classes": [],
            "_model_module": "@jupyter-widgets/controls",
            "_model_module_version": "1.5.0",
            "_model_name": "HTMLModel",
            "_view_count": null,
            "_view_module": "@jupyter-widgets/controls",
            "_view_module_version": "1.5.0",
            "_view_name": "HTMLView",
            "description": "",
            "description_tooltip": null,
            "layout": "IPY_MODEL_f14d7240506049998a9852f3c3f00796",
            "placeholder": "​",
            "style": "IPY_MODEL_f9eab8fc1bf84bc790d3257adc6af39d",
            "value": "vocab.txt: 100%"
          }
        },
        "c97b49464af5469398508bb44e53cbe2": {
          "model_module": "@jupyter-widgets/controls",
          "model_name": "FloatProgressModel",
          "model_module_version": "1.5.0",
          "state": {
            "_dom_classes": [],
            "_model_module": "@jupyter-widgets/controls",
            "_model_module_version": "1.5.0",
            "_model_name": "FloatProgressModel",
            "_view_count": null,
            "_view_module": "@jupyter-widgets/controls",
            "_view_module_version": "1.5.0",
            "_view_name": "ProgressView",
            "bar_style": "success",
            "description": "",
            "description_tooltip": null,
            "layout": "IPY_MODEL_fd1fdc2f3de145f9a85605b42eeecacd",
            "max": 231508,
            "min": 0,
            "orientation": "horizontal",
            "style": "IPY_MODEL_e3a2ddbaf0fc471b9dbe925b6f605716",
            "value": 231508
          }
        },
        "990dbe5333c7426f921b8242baa7a26a": {
          "model_module": "@jupyter-widgets/controls",
          "model_name": "HTMLModel",
          "model_module_version": "1.5.0",
          "state": {
            "_dom_classes": [],
            "_model_module": "@jupyter-widgets/controls",
            "_model_module_version": "1.5.0",
            "_model_name": "HTMLModel",
            "_view_count": null,
            "_view_module": "@jupyter-widgets/controls",
            "_view_module_version": "1.5.0",
            "_view_name": "HTMLView",
            "description": "",
            "description_tooltip": null,
            "layout": "IPY_MODEL_2878c16018fb4bbfa019f9403b7db234",
            "placeholder": "​",
            "style": "IPY_MODEL_cf0b0131997549d69f5f515ebba1a9c9",
            "value": " 232k/232k [00:00&lt;00:00, 669kB/s]"
          }
        },
        "1c301ff3e4db46c98b37a6e0ed268dee": {
          "model_module": "@jupyter-widgets/base",
          "model_name": "LayoutModel",
          "model_module_version": "1.2.0",
          "state": {
            "_model_module": "@jupyter-widgets/base",
            "_model_module_version": "1.2.0",
            "_model_name": "LayoutModel",
            "_view_count": null,
            "_view_module": "@jupyter-widgets/base",
            "_view_module_version": "1.2.0",
            "_view_name": "LayoutView",
            "align_content": null,
            "align_items": null,
            "align_self": null,
            "border": null,
            "bottom": null,
            "display": null,
            "flex": null,
            "flex_flow": null,
            "grid_area": null,
            "grid_auto_columns": null,
            "grid_auto_flow": null,
            "grid_auto_rows": null,
            "grid_column": null,
            "grid_gap": null,
            "grid_row": null,
            "grid_template_areas": null,
            "grid_template_columns": null,
            "grid_template_rows": null,
            "height": null,
            "justify_content": null,
            "justify_items": null,
            "left": null,
            "margin": null,
            "max_height": null,
            "max_width": null,
            "min_height": null,
            "min_width": null,
            "object_fit": null,
            "object_position": null,
            "order": null,
            "overflow": null,
            "overflow_x": null,
            "overflow_y": null,
            "padding": null,
            "right": null,
            "top": null,
            "visibility": null,
            "width": null
          }
        },
        "f14d7240506049998a9852f3c3f00796": {
          "model_module": "@jupyter-widgets/base",
          "model_name": "LayoutModel",
          "model_module_version": "1.2.0",
          "state": {
            "_model_module": "@jupyter-widgets/base",
            "_model_module_version": "1.2.0",
            "_model_name": "LayoutModel",
            "_view_count": null,
            "_view_module": "@jupyter-widgets/base",
            "_view_module_version": "1.2.0",
            "_view_name": "LayoutView",
            "align_content": null,
            "align_items": null,
            "align_self": null,
            "border": null,
            "bottom": null,
            "display": null,
            "flex": null,
            "flex_flow": null,
            "grid_area": null,
            "grid_auto_columns": null,
            "grid_auto_flow": null,
            "grid_auto_rows": null,
            "grid_column": null,
            "grid_gap": null,
            "grid_row": null,
            "grid_template_areas": null,
            "grid_template_columns": null,
            "grid_template_rows": null,
            "height": null,
            "justify_content": null,
            "justify_items": null,
            "left": null,
            "margin": null,
            "max_height": null,
            "max_width": null,
            "min_height": null,
            "min_width": null,
            "object_fit": null,
            "object_position": null,
            "order": null,
            "overflow": null,
            "overflow_x": null,
            "overflow_y": null,
            "padding": null,
            "right": null,
            "top": null,
            "visibility": null,
            "width": null
          }
        },
        "f9eab8fc1bf84bc790d3257adc6af39d": {
          "model_module": "@jupyter-widgets/controls",
          "model_name": "DescriptionStyleModel",
          "model_module_version": "1.5.0",
          "state": {
            "_model_module": "@jupyter-widgets/controls",
            "_model_module_version": "1.5.0",
            "_model_name": "DescriptionStyleModel",
            "_view_count": null,
            "_view_module": "@jupyter-widgets/base",
            "_view_module_version": "1.2.0",
            "_view_name": "StyleView",
            "description_width": ""
          }
        },
        "fd1fdc2f3de145f9a85605b42eeecacd": {
          "model_module": "@jupyter-widgets/base",
          "model_name": "LayoutModel",
          "model_module_version": "1.2.0",
          "state": {
            "_model_module": "@jupyter-widgets/base",
            "_model_module_version": "1.2.0",
            "_model_name": "LayoutModel",
            "_view_count": null,
            "_view_module": "@jupyter-widgets/base",
            "_view_module_version": "1.2.0",
            "_view_name": "LayoutView",
            "align_content": null,
            "align_items": null,
            "align_self": null,
            "border": null,
            "bottom": null,
            "display": null,
            "flex": null,
            "flex_flow": null,
            "grid_area": null,
            "grid_auto_columns": null,
            "grid_auto_flow": null,
            "grid_auto_rows": null,
            "grid_column": null,
            "grid_gap": null,
            "grid_row": null,
            "grid_template_areas": null,
            "grid_template_columns": null,
            "grid_template_rows": null,
            "height": null,
            "justify_content": null,
            "justify_items": null,
            "left": null,
            "margin": null,
            "max_height": null,
            "max_width": null,
            "min_height": null,
            "min_width": null,
            "object_fit": null,
            "object_position": null,
            "order": null,
            "overflow": null,
            "overflow_x": null,
            "overflow_y": null,
            "padding": null,
            "right": null,
            "top": null,
            "visibility": null,
            "width": null
          }
        },
        "e3a2ddbaf0fc471b9dbe925b6f605716": {
          "model_module": "@jupyter-widgets/controls",
          "model_name": "ProgressStyleModel",
          "model_module_version": "1.5.0",
          "state": {
            "_model_module": "@jupyter-widgets/controls",
            "_model_module_version": "1.5.0",
            "_model_name": "ProgressStyleModel",
            "_view_count": null,
            "_view_module": "@jupyter-widgets/base",
            "_view_module_version": "1.2.0",
            "_view_name": "StyleView",
            "bar_color": null,
            "description_width": ""
          }
        },
        "2878c16018fb4bbfa019f9403b7db234": {
          "model_module": "@jupyter-widgets/base",
          "model_name": "LayoutModel",
          "model_module_version": "1.2.0",
          "state": {
            "_model_module": "@jupyter-widgets/base",
            "_model_module_version": "1.2.0",
            "_model_name": "LayoutModel",
            "_view_count": null,
            "_view_module": "@jupyter-widgets/base",
            "_view_module_version": "1.2.0",
            "_view_name": "LayoutView",
            "align_content": null,
            "align_items": null,
            "align_self": null,
            "border": null,
            "bottom": null,
            "display": null,
            "flex": null,
            "flex_flow": null,
            "grid_area": null,
            "grid_auto_columns": null,
            "grid_auto_flow": null,
            "grid_auto_rows": null,
            "grid_column": null,
            "grid_gap": null,
            "grid_row": null,
            "grid_template_areas": null,
            "grid_template_columns": null,
            "grid_template_rows": null,
            "height": null,
            "justify_content": null,
            "justify_items": null,
            "left": null,
            "margin": null,
            "max_height": null,
            "max_width": null,
            "min_height": null,
            "min_width": null,
            "object_fit": null,
            "object_position": null,
            "order": null,
            "overflow": null,
            "overflow_x": null,
            "overflow_y": null,
            "padding": null,
            "right": null,
            "top": null,
            "visibility": null,
            "width": null
          }
        },
        "cf0b0131997549d69f5f515ebba1a9c9": {
          "model_module": "@jupyter-widgets/controls",
          "model_name": "DescriptionStyleModel",
          "model_module_version": "1.5.0",
          "state": {
            "_model_module": "@jupyter-widgets/controls",
            "_model_module_version": "1.5.0",
            "_model_name": "DescriptionStyleModel",
            "_view_count": null,
            "_view_module": "@jupyter-widgets/base",
            "_view_module_version": "1.2.0",
            "_view_name": "StyleView",
            "description_width": ""
          }
        },
        "2ecf7c8ecdad422d92b1551036af0e0c": {
          "model_module": "@jupyter-widgets/controls",
          "model_name": "HBoxModel",
          "model_module_version": "1.5.0",
          "state": {
            "_dom_classes": [],
            "_model_module": "@jupyter-widgets/controls",
            "_model_module_version": "1.5.0",
            "_model_name": "HBoxModel",
            "_view_count": null,
            "_view_module": "@jupyter-widgets/controls",
            "_view_module_version": "1.5.0",
            "_view_name": "HBoxView",
            "box_style": "",
            "children": [
              "IPY_MODEL_10885473edd641b3882a48a00dae8a97",
              "IPY_MODEL_0cf444e4bb6d4c88985196fc7aa76715",
              "IPY_MODEL_306e7551e81c4ed6b41d4c5b9004d761"
            ],
            "layout": "IPY_MODEL_e69f63d8ed1f405186a398f0b1c81c98"
          }
        },
        "10885473edd641b3882a48a00dae8a97": {
          "model_module": "@jupyter-widgets/controls",
          "model_name": "HTMLModel",
          "model_module_version": "1.5.0",
          "state": {
            "_dom_classes": [],
            "_model_module": "@jupyter-widgets/controls",
            "_model_module_version": "1.5.0",
            "_model_name": "HTMLModel",
            "_view_count": null,
            "_view_module": "@jupyter-widgets/controls",
            "_view_module_version": "1.5.0",
            "_view_name": "HTMLView",
            "description": "",
            "description_tooltip": null,
            "layout": "IPY_MODEL_5639d0746fb74c8c8d6b86a2c8991f19",
            "placeholder": "​",
            "style": "IPY_MODEL_718fdd24f0d04980bb6f225d9a6fc81f",
            "value": "tokenizer.json: 100%"
          }
        },
        "0cf444e4bb6d4c88985196fc7aa76715": {
          "model_module": "@jupyter-widgets/controls",
          "model_name": "FloatProgressModel",
          "model_module_version": "1.5.0",
          "state": {
            "_dom_classes": [],
            "_model_module": "@jupyter-widgets/controls",
            "_model_module_version": "1.5.0",
            "_model_name": "FloatProgressModel",
            "_view_count": null,
            "_view_module": "@jupyter-widgets/controls",
            "_view_module_version": "1.5.0",
            "_view_name": "ProgressView",
            "bar_style": "success",
            "description": "",
            "description_tooltip": null,
            "layout": "IPY_MODEL_e8e0cfbfbbe64a4fb8a6131725ef870d",
            "max": 466062,
            "min": 0,
            "orientation": "horizontal",
            "style": "IPY_MODEL_1ac7522c7d7d48cfab4de6ec76653971",
            "value": 466062
          }
        },
        "306e7551e81c4ed6b41d4c5b9004d761": {
          "model_module": "@jupyter-widgets/controls",
          "model_name": "HTMLModel",
          "model_module_version": "1.5.0",
          "state": {
            "_dom_classes": [],
            "_model_module": "@jupyter-widgets/controls",
            "_model_module_version": "1.5.0",
            "_model_name": "HTMLModel",
            "_view_count": null,
            "_view_module": "@jupyter-widgets/controls",
            "_view_module_version": "1.5.0",
            "_view_name": "HTMLView",
            "description": "",
            "description_tooltip": null,
            "layout": "IPY_MODEL_dc7ebf34cfc2451d8a20104a4d65a39c",
            "placeholder": "​",
            "style": "IPY_MODEL_6d20b80559ef48409e254106eac0ab23",
            "value": " 466k/466k [00:00&lt;00:00, 34.1MB/s]"
          }
        },
        "e69f63d8ed1f405186a398f0b1c81c98": {
          "model_module": "@jupyter-widgets/base",
          "model_name": "LayoutModel",
          "model_module_version": "1.2.0",
          "state": {
            "_model_module": "@jupyter-widgets/base",
            "_model_module_version": "1.2.0",
            "_model_name": "LayoutModel",
            "_view_count": null,
            "_view_module": "@jupyter-widgets/base",
            "_view_module_version": "1.2.0",
            "_view_name": "LayoutView",
            "align_content": null,
            "align_items": null,
            "align_self": null,
            "border": null,
            "bottom": null,
            "display": null,
            "flex": null,
            "flex_flow": null,
            "grid_area": null,
            "grid_auto_columns": null,
            "grid_auto_flow": null,
            "grid_auto_rows": null,
            "grid_column": null,
            "grid_gap": null,
            "grid_row": null,
            "grid_template_areas": null,
            "grid_template_columns": null,
            "grid_template_rows": null,
            "height": null,
            "justify_content": null,
            "justify_items": null,
            "left": null,
            "margin": null,
            "max_height": null,
            "max_width": null,
            "min_height": null,
            "min_width": null,
            "object_fit": null,
            "object_position": null,
            "order": null,
            "overflow": null,
            "overflow_x": null,
            "overflow_y": null,
            "padding": null,
            "right": null,
            "top": null,
            "visibility": null,
            "width": null
          }
        },
        "5639d0746fb74c8c8d6b86a2c8991f19": {
          "model_module": "@jupyter-widgets/base",
          "model_name": "LayoutModel",
          "model_module_version": "1.2.0",
          "state": {
            "_model_module": "@jupyter-widgets/base",
            "_model_module_version": "1.2.0",
            "_model_name": "LayoutModel",
            "_view_count": null,
            "_view_module": "@jupyter-widgets/base",
            "_view_module_version": "1.2.0",
            "_view_name": "LayoutView",
            "align_content": null,
            "align_items": null,
            "align_self": null,
            "border": null,
            "bottom": null,
            "display": null,
            "flex": null,
            "flex_flow": null,
            "grid_area": null,
            "grid_auto_columns": null,
            "grid_auto_flow": null,
            "grid_auto_rows": null,
            "grid_column": null,
            "grid_gap": null,
            "grid_row": null,
            "grid_template_areas": null,
            "grid_template_columns": null,
            "grid_template_rows": null,
            "height": null,
            "justify_content": null,
            "justify_items": null,
            "left": null,
            "margin": null,
            "max_height": null,
            "max_width": null,
            "min_height": null,
            "min_width": null,
            "object_fit": null,
            "object_position": null,
            "order": null,
            "overflow": null,
            "overflow_x": null,
            "overflow_y": null,
            "padding": null,
            "right": null,
            "top": null,
            "visibility": null,
            "width": null
          }
        },
        "718fdd24f0d04980bb6f225d9a6fc81f": {
          "model_module": "@jupyter-widgets/controls",
          "model_name": "DescriptionStyleModel",
          "model_module_version": "1.5.0",
          "state": {
            "_model_module": "@jupyter-widgets/controls",
            "_model_module_version": "1.5.0",
            "_model_name": "DescriptionStyleModel",
            "_view_count": null,
            "_view_module": "@jupyter-widgets/base",
            "_view_module_version": "1.2.0",
            "_view_name": "StyleView",
            "description_width": ""
          }
        },
        "e8e0cfbfbbe64a4fb8a6131725ef870d": {
          "model_module": "@jupyter-widgets/base",
          "model_name": "LayoutModel",
          "model_module_version": "1.2.0",
          "state": {
            "_model_module": "@jupyter-widgets/base",
            "_model_module_version": "1.2.0",
            "_model_name": "LayoutModel",
            "_view_count": null,
            "_view_module": "@jupyter-widgets/base",
            "_view_module_version": "1.2.0",
            "_view_name": "LayoutView",
            "align_content": null,
            "align_items": null,
            "align_self": null,
            "border": null,
            "bottom": null,
            "display": null,
            "flex": null,
            "flex_flow": null,
            "grid_area": null,
            "grid_auto_columns": null,
            "grid_auto_flow": null,
            "grid_auto_rows": null,
            "grid_column": null,
            "grid_gap": null,
            "grid_row": null,
            "grid_template_areas": null,
            "grid_template_columns": null,
            "grid_template_rows": null,
            "height": null,
            "justify_content": null,
            "justify_items": null,
            "left": null,
            "margin": null,
            "max_height": null,
            "max_width": null,
            "min_height": null,
            "min_width": null,
            "object_fit": null,
            "object_position": null,
            "order": null,
            "overflow": null,
            "overflow_x": null,
            "overflow_y": null,
            "padding": null,
            "right": null,
            "top": null,
            "visibility": null,
            "width": null
          }
        },
        "1ac7522c7d7d48cfab4de6ec76653971": {
          "model_module": "@jupyter-widgets/controls",
          "model_name": "ProgressStyleModel",
          "model_module_version": "1.5.0",
          "state": {
            "_model_module": "@jupyter-widgets/controls",
            "_model_module_version": "1.5.0",
            "_model_name": "ProgressStyleModel",
            "_view_count": null,
            "_view_module": "@jupyter-widgets/base",
            "_view_module_version": "1.2.0",
            "_view_name": "StyleView",
            "bar_color": null,
            "description_width": ""
          }
        },
        "dc7ebf34cfc2451d8a20104a4d65a39c": {
          "model_module": "@jupyter-widgets/base",
          "model_name": "LayoutModel",
          "model_module_version": "1.2.0",
          "state": {
            "_model_module": "@jupyter-widgets/base",
            "_model_module_version": "1.2.0",
            "_model_name": "LayoutModel",
            "_view_count": null,
            "_view_module": "@jupyter-widgets/base",
            "_view_module_version": "1.2.0",
            "_view_name": "LayoutView",
            "align_content": null,
            "align_items": null,
            "align_self": null,
            "border": null,
            "bottom": null,
            "display": null,
            "flex": null,
            "flex_flow": null,
            "grid_area": null,
            "grid_auto_columns": null,
            "grid_auto_flow": null,
            "grid_auto_rows": null,
            "grid_column": null,
            "grid_gap": null,
            "grid_row": null,
            "grid_template_areas": null,
            "grid_template_columns": null,
            "grid_template_rows": null,
            "height": null,
            "justify_content": null,
            "justify_items": null,
            "left": null,
            "margin": null,
            "max_height": null,
            "max_width": null,
            "min_height": null,
            "min_width": null,
            "object_fit": null,
            "object_position": null,
            "order": null,
            "overflow": null,
            "overflow_x": null,
            "overflow_y": null,
            "padding": null,
            "right": null,
            "top": null,
            "visibility": null,
            "width": null
          }
        },
        "6d20b80559ef48409e254106eac0ab23": {
          "model_module": "@jupyter-widgets/controls",
          "model_name": "DescriptionStyleModel",
          "model_module_version": "1.5.0",
          "state": {
            "_model_module": "@jupyter-widgets/controls",
            "_model_module_version": "1.5.0",
            "_model_name": "DescriptionStyleModel",
            "_view_count": null,
            "_view_module": "@jupyter-widgets/base",
            "_view_module_version": "1.2.0",
            "_view_name": "StyleView",
            "description_width": ""
          }
        },
        "c5740099f39440a9becef1ab56aef806": {
          "model_module": "@jupyter-widgets/controls",
          "model_name": "HBoxModel",
          "model_module_version": "1.5.0",
          "state": {
            "_dom_classes": [],
            "_model_module": "@jupyter-widgets/controls",
            "_model_module_version": "1.5.0",
            "_model_name": "HBoxModel",
            "_view_count": null,
            "_view_module": "@jupyter-widgets/controls",
            "_view_module_version": "1.5.0",
            "_view_name": "HBoxView",
            "box_style": "",
            "children": [
              "IPY_MODEL_41b2a19be33c4c18a69dddaff6e97eef",
              "IPY_MODEL_9e08ea384aa84411ba92c14ba7624442",
              "IPY_MODEL_d3dec51cc4ab4fe3b127f0ece9dd8a99"
            ],
            "layout": "IPY_MODEL_5b84a1c9163d47c68ebfe8c61b44aebb"
          }
        },
        "41b2a19be33c4c18a69dddaff6e97eef": {
          "model_module": "@jupyter-widgets/controls",
          "model_name": "HTMLModel",
          "model_module_version": "1.5.0",
          "state": {
            "_dom_classes": [],
            "_model_module": "@jupyter-widgets/controls",
            "_model_module_version": "1.5.0",
            "_model_name": "HTMLModel",
            "_view_count": null,
            "_view_module": "@jupyter-widgets/controls",
            "_view_module_version": "1.5.0",
            "_view_name": "HTMLView",
            "description": "",
            "description_tooltip": null,
            "layout": "IPY_MODEL_b810d5eea891495e9f1af911904a695f",
            "placeholder": "​",
            "style": "IPY_MODEL_5a655329a3ae44ef8f94641625b7254a",
            "value": "config.json: 100%"
          }
        },
        "9e08ea384aa84411ba92c14ba7624442": {
          "model_module": "@jupyter-widgets/controls",
          "model_name": "FloatProgressModel",
          "model_module_version": "1.5.0",
          "state": {
            "_dom_classes": [],
            "_model_module": "@jupyter-widgets/controls",
            "_model_module_version": "1.5.0",
            "_model_name": "FloatProgressModel",
            "_view_count": null,
            "_view_module": "@jupyter-widgets/controls",
            "_view_module_version": "1.5.0",
            "_view_name": "ProgressView",
            "bar_style": "success",
            "description": "",
            "description_tooltip": null,
            "layout": "IPY_MODEL_8f7b81168ab04e3482677529d9a4b17a",
            "max": 570,
            "min": 0,
            "orientation": "horizontal",
            "style": "IPY_MODEL_bf3629c3df524762a09b00b39728ddd7",
            "value": 570
          }
        },
        "d3dec51cc4ab4fe3b127f0ece9dd8a99": {
          "model_module": "@jupyter-widgets/controls",
          "model_name": "HTMLModel",
          "model_module_version": "1.5.0",
          "state": {
            "_dom_classes": [],
            "_model_module": "@jupyter-widgets/controls",
            "_model_module_version": "1.5.0",
            "_model_name": "HTMLModel",
            "_view_count": null,
            "_view_module": "@jupyter-widgets/controls",
            "_view_module_version": "1.5.0",
            "_view_name": "HTMLView",
            "description": "",
            "description_tooltip": null,
            "layout": "IPY_MODEL_e6625d19ed25469e8b658754859aef92",
            "placeholder": "​",
            "style": "IPY_MODEL_b6da578e7e3247a881d069322532f3b8",
            "value": " 570/570 [00:00&lt;00:00, 44.4kB/s]"
          }
        },
        "5b84a1c9163d47c68ebfe8c61b44aebb": {
          "model_module": "@jupyter-widgets/base",
          "model_name": "LayoutModel",
          "model_module_version": "1.2.0",
          "state": {
            "_model_module": "@jupyter-widgets/base",
            "_model_module_version": "1.2.0",
            "_model_name": "LayoutModel",
            "_view_count": null,
            "_view_module": "@jupyter-widgets/base",
            "_view_module_version": "1.2.0",
            "_view_name": "LayoutView",
            "align_content": null,
            "align_items": null,
            "align_self": null,
            "border": null,
            "bottom": null,
            "display": null,
            "flex": null,
            "flex_flow": null,
            "grid_area": null,
            "grid_auto_columns": null,
            "grid_auto_flow": null,
            "grid_auto_rows": null,
            "grid_column": null,
            "grid_gap": null,
            "grid_row": null,
            "grid_template_areas": null,
            "grid_template_columns": null,
            "grid_template_rows": null,
            "height": null,
            "justify_content": null,
            "justify_items": null,
            "left": null,
            "margin": null,
            "max_height": null,
            "max_width": null,
            "min_height": null,
            "min_width": null,
            "object_fit": null,
            "object_position": null,
            "order": null,
            "overflow": null,
            "overflow_x": null,
            "overflow_y": null,
            "padding": null,
            "right": null,
            "top": null,
            "visibility": null,
            "width": null
          }
        },
        "b810d5eea891495e9f1af911904a695f": {
          "model_module": "@jupyter-widgets/base",
          "model_name": "LayoutModel",
          "model_module_version": "1.2.0",
          "state": {
            "_model_module": "@jupyter-widgets/base",
            "_model_module_version": "1.2.0",
            "_model_name": "LayoutModel",
            "_view_count": null,
            "_view_module": "@jupyter-widgets/base",
            "_view_module_version": "1.2.0",
            "_view_name": "LayoutView",
            "align_content": null,
            "align_items": null,
            "align_self": null,
            "border": null,
            "bottom": null,
            "display": null,
            "flex": null,
            "flex_flow": null,
            "grid_area": null,
            "grid_auto_columns": null,
            "grid_auto_flow": null,
            "grid_auto_rows": null,
            "grid_column": null,
            "grid_gap": null,
            "grid_row": null,
            "grid_template_areas": null,
            "grid_template_columns": null,
            "grid_template_rows": null,
            "height": null,
            "justify_content": null,
            "justify_items": null,
            "left": null,
            "margin": null,
            "max_height": null,
            "max_width": null,
            "min_height": null,
            "min_width": null,
            "object_fit": null,
            "object_position": null,
            "order": null,
            "overflow": null,
            "overflow_x": null,
            "overflow_y": null,
            "padding": null,
            "right": null,
            "top": null,
            "visibility": null,
            "width": null
          }
        },
        "5a655329a3ae44ef8f94641625b7254a": {
          "model_module": "@jupyter-widgets/controls",
          "model_name": "DescriptionStyleModel",
          "model_module_version": "1.5.0",
          "state": {
            "_model_module": "@jupyter-widgets/controls",
            "_model_module_version": "1.5.0",
            "_model_name": "DescriptionStyleModel",
            "_view_count": null,
            "_view_module": "@jupyter-widgets/base",
            "_view_module_version": "1.2.0",
            "_view_name": "StyleView",
            "description_width": ""
          }
        },
        "8f7b81168ab04e3482677529d9a4b17a": {
          "model_module": "@jupyter-widgets/base",
          "model_name": "LayoutModel",
          "model_module_version": "1.2.0",
          "state": {
            "_model_module": "@jupyter-widgets/base",
            "_model_module_version": "1.2.0",
            "_model_name": "LayoutModel",
            "_view_count": null,
            "_view_module": "@jupyter-widgets/base",
            "_view_module_version": "1.2.0",
            "_view_name": "LayoutView",
            "align_content": null,
            "align_items": null,
            "align_self": null,
            "border": null,
            "bottom": null,
            "display": null,
            "flex": null,
            "flex_flow": null,
            "grid_area": null,
            "grid_auto_columns": null,
            "grid_auto_flow": null,
            "grid_auto_rows": null,
            "grid_column": null,
            "grid_gap": null,
            "grid_row": null,
            "grid_template_areas": null,
            "grid_template_columns": null,
            "grid_template_rows": null,
            "height": null,
            "justify_content": null,
            "justify_items": null,
            "left": null,
            "margin": null,
            "max_height": null,
            "max_width": null,
            "min_height": null,
            "min_width": null,
            "object_fit": null,
            "object_position": null,
            "order": null,
            "overflow": null,
            "overflow_x": null,
            "overflow_y": null,
            "padding": null,
            "right": null,
            "top": null,
            "visibility": null,
            "width": null
          }
        },
        "bf3629c3df524762a09b00b39728ddd7": {
          "model_module": "@jupyter-widgets/controls",
          "model_name": "ProgressStyleModel",
          "model_module_version": "1.5.0",
          "state": {
            "_model_module": "@jupyter-widgets/controls",
            "_model_module_version": "1.5.0",
            "_model_name": "ProgressStyleModel",
            "_view_count": null,
            "_view_module": "@jupyter-widgets/base",
            "_view_module_version": "1.2.0",
            "_view_name": "StyleView",
            "bar_color": null,
            "description_width": ""
          }
        },
        "e6625d19ed25469e8b658754859aef92": {
          "model_module": "@jupyter-widgets/base",
          "model_name": "LayoutModel",
          "model_module_version": "1.2.0",
          "state": {
            "_model_module": "@jupyter-widgets/base",
            "_model_module_version": "1.2.0",
            "_model_name": "LayoutModel",
            "_view_count": null,
            "_view_module": "@jupyter-widgets/base",
            "_view_module_version": "1.2.0",
            "_view_name": "LayoutView",
            "align_content": null,
            "align_items": null,
            "align_self": null,
            "border": null,
            "bottom": null,
            "display": null,
            "flex": null,
            "flex_flow": null,
            "grid_area": null,
            "grid_auto_columns": null,
            "grid_auto_flow": null,
            "grid_auto_rows": null,
            "grid_column": null,
            "grid_gap": null,
            "grid_row": null,
            "grid_template_areas": null,
            "grid_template_columns": null,
            "grid_template_rows": null,
            "height": null,
            "justify_content": null,
            "justify_items": null,
            "left": null,
            "margin": null,
            "max_height": null,
            "max_width": null,
            "min_height": null,
            "min_width": null,
            "object_fit": null,
            "object_position": null,
            "order": null,
            "overflow": null,
            "overflow_x": null,
            "overflow_y": null,
            "padding": null,
            "right": null,
            "top": null,
            "visibility": null,
            "width": null
          }
        },
        "b6da578e7e3247a881d069322532f3b8": {
          "model_module": "@jupyter-widgets/controls",
          "model_name": "DescriptionStyleModel",
          "model_module_version": "1.5.0",
          "state": {
            "_model_module": "@jupyter-widgets/controls",
            "_model_module_version": "1.5.0",
            "_model_name": "DescriptionStyleModel",
            "_view_count": null,
            "_view_module": "@jupyter-widgets/base",
            "_view_module_version": "1.2.0",
            "_view_name": "StyleView",
            "description_width": ""
          }
        },
        "7553ad53f58c4129b7e57e2533749b01": {
          "model_module": "@jupyter-widgets/controls",
          "model_name": "HBoxModel",
          "model_module_version": "1.5.0",
          "state": {
            "_dom_classes": [],
            "_model_module": "@jupyter-widgets/controls",
            "_model_module_version": "1.5.0",
            "_model_name": "HBoxModel",
            "_view_count": null,
            "_view_module": "@jupyter-widgets/controls",
            "_view_module_version": "1.5.0",
            "_view_name": "HBoxView",
            "box_style": "",
            "children": [
              "IPY_MODEL_47494f8fa95f42fc95f2d3b4316458b4",
              "IPY_MODEL_76ac922db6d74d5d9885afc33c51b3b1",
              "IPY_MODEL_5dc358f6a9b24eae88b1399f3cf968b7"
            ],
            "layout": "IPY_MODEL_ede16439ffd54e2e8e43ae9bbf183b12"
          }
        },
        "47494f8fa95f42fc95f2d3b4316458b4": {
          "model_module": "@jupyter-widgets/controls",
          "model_name": "HTMLModel",
          "model_module_version": "1.5.0",
          "state": {
            "_dom_classes": [],
            "_model_module": "@jupyter-widgets/controls",
            "_model_module_version": "1.5.0",
            "_model_name": "HTMLModel",
            "_view_count": null,
            "_view_module": "@jupyter-widgets/controls",
            "_view_module_version": "1.5.0",
            "_view_name": "HTMLView",
            "description": "",
            "description_tooltip": null,
            "layout": "IPY_MODEL_19db5ba8c5ac42ffaec19871c7b5a948",
            "placeholder": "​",
            "style": "IPY_MODEL_a558b61536104e44a47fc414481b64ac",
            "value": "model.safetensors: 100%"
          }
        },
        "76ac922db6d74d5d9885afc33c51b3b1": {
          "model_module": "@jupyter-widgets/controls",
          "model_name": "FloatProgressModel",
          "model_module_version": "1.5.0",
          "state": {
            "_dom_classes": [],
            "_model_module": "@jupyter-widgets/controls",
            "_model_module_version": "1.5.0",
            "_model_name": "FloatProgressModel",
            "_view_count": null,
            "_view_module": "@jupyter-widgets/controls",
            "_view_module_version": "1.5.0",
            "_view_name": "ProgressView",
            "bar_style": "success",
            "description": "",
            "description_tooltip": null,
            "layout": "IPY_MODEL_e8c1abc9324b42bfb2a8be03f3774ecb",
            "max": 440449768,
            "min": 0,
            "orientation": "horizontal",
            "style": "IPY_MODEL_39fb961327c94a7983e61cf05c53b921",
            "value": 440449768
          }
        },
        "5dc358f6a9b24eae88b1399f3cf968b7": {
          "model_module": "@jupyter-widgets/controls",
          "model_name": "HTMLModel",
          "model_module_version": "1.5.0",
          "state": {
            "_dom_classes": [],
            "_model_module": "@jupyter-widgets/controls",
            "_model_module_version": "1.5.0",
            "_model_name": "HTMLModel",
            "_view_count": null,
            "_view_module": "@jupyter-widgets/controls",
            "_view_module_version": "1.5.0",
            "_view_name": "HTMLView",
            "description": "",
            "description_tooltip": null,
            "layout": "IPY_MODEL_79bef59579f6423580a577c01c99eac1",
            "placeholder": "​",
            "style": "IPY_MODEL_1c57b979d7184b6db8f79d12c0f0644c",
            "value": " 440M/440M [00:04&lt;00:00, 136MB/s]"
          }
        },
        "ede16439ffd54e2e8e43ae9bbf183b12": {
          "model_module": "@jupyter-widgets/base",
          "model_name": "LayoutModel",
          "model_module_version": "1.2.0",
          "state": {
            "_model_module": "@jupyter-widgets/base",
            "_model_module_version": "1.2.0",
            "_model_name": "LayoutModel",
            "_view_count": null,
            "_view_module": "@jupyter-widgets/base",
            "_view_module_version": "1.2.0",
            "_view_name": "LayoutView",
            "align_content": null,
            "align_items": null,
            "align_self": null,
            "border": null,
            "bottom": null,
            "display": null,
            "flex": null,
            "flex_flow": null,
            "grid_area": null,
            "grid_auto_columns": null,
            "grid_auto_flow": null,
            "grid_auto_rows": null,
            "grid_column": null,
            "grid_gap": null,
            "grid_row": null,
            "grid_template_areas": null,
            "grid_template_columns": null,
            "grid_template_rows": null,
            "height": null,
            "justify_content": null,
            "justify_items": null,
            "left": null,
            "margin": null,
            "max_height": null,
            "max_width": null,
            "min_height": null,
            "min_width": null,
            "object_fit": null,
            "object_position": null,
            "order": null,
            "overflow": null,
            "overflow_x": null,
            "overflow_y": null,
            "padding": null,
            "right": null,
            "top": null,
            "visibility": null,
            "width": null
          }
        },
        "19db5ba8c5ac42ffaec19871c7b5a948": {
          "model_module": "@jupyter-widgets/base",
          "model_name": "LayoutModel",
          "model_module_version": "1.2.0",
          "state": {
            "_model_module": "@jupyter-widgets/base",
            "_model_module_version": "1.2.0",
            "_model_name": "LayoutModel",
            "_view_count": null,
            "_view_module": "@jupyter-widgets/base",
            "_view_module_version": "1.2.0",
            "_view_name": "LayoutView",
            "align_content": null,
            "align_items": null,
            "align_self": null,
            "border": null,
            "bottom": null,
            "display": null,
            "flex": null,
            "flex_flow": null,
            "grid_area": null,
            "grid_auto_columns": null,
            "grid_auto_flow": null,
            "grid_auto_rows": null,
            "grid_column": null,
            "grid_gap": null,
            "grid_row": null,
            "grid_template_areas": null,
            "grid_template_columns": null,
            "grid_template_rows": null,
            "height": null,
            "justify_content": null,
            "justify_items": null,
            "left": null,
            "margin": null,
            "max_height": null,
            "max_width": null,
            "min_height": null,
            "min_width": null,
            "object_fit": null,
            "object_position": null,
            "order": null,
            "overflow": null,
            "overflow_x": null,
            "overflow_y": null,
            "padding": null,
            "right": null,
            "top": null,
            "visibility": null,
            "width": null
          }
        },
        "a558b61536104e44a47fc414481b64ac": {
          "model_module": "@jupyter-widgets/controls",
          "model_name": "DescriptionStyleModel",
          "model_module_version": "1.5.0",
          "state": {
            "_model_module": "@jupyter-widgets/controls",
            "_model_module_version": "1.5.0",
            "_model_name": "DescriptionStyleModel",
            "_view_count": null,
            "_view_module": "@jupyter-widgets/base",
            "_view_module_version": "1.2.0",
            "_view_name": "StyleView",
            "description_width": ""
          }
        },
        "e8c1abc9324b42bfb2a8be03f3774ecb": {
          "model_module": "@jupyter-widgets/base",
          "model_name": "LayoutModel",
          "model_module_version": "1.2.0",
          "state": {
            "_model_module": "@jupyter-widgets/base",
            "_model_module_version": "1.2.0",
            "_model_name": "LayoutModel",
            "_view_count": null,
            "_view_module": "@jupyter-widgets/base",
            "_view_module_version": "1.2.0",
            "_view_name": "LayoutView",
            "align_content": null,
            "align_items": null,
            "align_self": null,
            "border": null,
            "bottom": null,
            "display": null,
            "flex": null,
            "flex_flow": null,
            "grid_area": null,
            "grid_auto_columns": null,
            "grid_auto_flow": null,
            "grid_auto_rows": null,
            "grid_column": null,
            "grid_gap": null,
            "grid_row": null,
            "grid_template_areas": null,
            "grid_template_columns": null,
            "grid_template_rows": null,
            "height": null,
            "justify_content": null,
            "justify_items": null,
            "left": null,
            "margin": null,
            "max_height": null,
            "max_width": null,
            "min_height": null,
            "min_width": null,
            "object_fit": null,
            "object_position": null,
            "order": null,
            "overflow": null,
            "overflow_x": null,
            "overflow_y": null,
            "padding": null,
            "right": null,
            "top": null,
            "visibility": null,
            "width": null
          }
        },
        "39fb961327c94a7983e61cf05c53b921": {
          "model_module": "@jupyter-widgets/controls",
          "model_name": "ProgressStyleModel",
          "model_module_version": "1.5.0",
          "state": {
            "_model_module": "@jupyter-widgets/controls",
            "_model_module_version": "1.5.0",
            "_model_name": "ProgressStyleModel",
            "_view_count": null,
            "_view_module": "@jupyter-widgets/base",
            "_view_module_version": "1.2.0",
            "_view_name": "StyleView",
            "bar_color": null,
            "description_width": ""
          }
        },
        "79bef59579f6423580a577c01c99eac1": {
          "model_module": "@jupyter-widgets/base",
          "model_name": "LayoutModel",
          "model_module_version": "1.2.0",
          "state": {
            "_model_module": "@jupyter-widgets/base",
            "_model_module_version": "1.2.0",
            "_model_name": "LayoutModel",
            "_view_count": null,
            "_view_module": "@jupyter-widgets/base",
            "_view_module_version": "1.2.0",
            "_view_name": "LayoutView",
            "align_content": null,
            "align_items": null,
            "align_self": null,
            "border": null,
            "bottom": null,
            "display": null,
            "flex": null,
            "flex_flow": null,
            "grid_area": null,
            "grid_auto_columns": null,
            "grid_auto_flow": null,
            "grid_auto_rows": null,
            "grid_column": null,
            "grid_gap": null,
            "grid_row": null,
            "grid_template_areas": null,
            "grid_template_columns": null,
            "grid_template_rows": null,
            "height": null,
            "justify_content": null,
            "justify_items": null,
            "left": null,
            "margin": null,
            "max_height": null,
            "max_width": null,
            "min_height": null,
            "min_width": null,
            "object_fit": null,
            "object_position": null,
            "order": null,
            "overflow": null,
            "overflow_x": null,
            "overflow_y": null,
            "padding": null,
            "right": null,
            "top": null,
            "visibility": null,
            "width": null
          }
        },
        "1c57b979d7184b6db8f79d12c0f0644c": {
          "model_module": "@jupyter-widgets/controls",
          "model_name": "DescriptionStyleModel",
          "model_module_version": "1.5.0",
          "state": {
            "_model_module": "@jupyter-widgets/controls",
            "_model_module_version": "1.5.0",
            "_model_name": "DescriptionStyleModel",
            "_view_count": null,
            "_view_module": "@jupyter-widgets/base",
            "_view_module_version": "1.2.0",
            "_view_name": "StyleView",
            "description_width": ""
          }
        }
      }
    }
  },
  "cells": [
    {
      "cell_type": "markdown",
      "source": [
        "  # Alignment in Transformers: A Simple Coding Tutotrial #"
      ],
      "metadata": {
        "id": "DsIr9dyRPduv"
      }
    },
    {
      "cell_type": "markdown",
      "source": [
        "# Part 1: #"
      ],
      "metadata": {
        "id": "a3sIgVQB7YBf"
      }
    },
    {
      "cell_type": "markdown",
      "source": [
        "In this coding tutorial we will see how transformers learn to align words between languages during translation and try to demonstrate the core mechanism behind how transformers handle translation, answering questions and many other tasks. So follow along!"
      ],
      "metadata": {
        "id": "5u1xInYCPpP1"
      }
    },
    {
      "cell_type": "markdown",
      "source": [
        "Lets consider a simple task of translating a short english sentence 'The cat' to 'El gato' in Spanish."
      ],
      "metadata": {
        "id": "gvbA9L6APxuZ"
      }
    },
    {
      "cell_type": "code",
      "source": [
        "import torch\n",
        "import torch.nn.functional as F\n",
        "import matplotlib.pyplot as plt\n",
        "\n",
        "# Translation: \"The cat\" -> \"El gato\"\n",
        "english = [\"The\", \"cat\"]\n",
        "spanish = [\"El\", \"gato\"]"
      ],
      "metadata": {
        "id": "5kLGJmx8QCct"
      },
      "execution_count": 1,
      "outputs": []
    },
    {
      "cell_type": "markdown",
      "source": [
        "As we know, when we type a sentence, it goes into the input layer of the transformer where the textual prompt undergoes tokenization (broken into small pieces of words) and are combined with positional encodings, called as embeddings.\n",
        "\n",
        "Here we will manually create the embeddings for our sentence to keep things simple."
      ],
      "metadata": {
        "id": "5OuvyFkWQO-N"
      }
    },
    {
      "cell_type": "markdown",
      "source": [
        "Embeddings are basically the numerical reprsentations of words.\n",
        "\n",
        "For the english sentence:\n",
        "* [1.0, 0.0] represents \"The\"\n",
        "* [0.0, 1.0] represents \"cat\"\n",
        "\n",
        "And for the Spanish sentence:\n",
        "* [0.9, 0.1] represents \"El\"\n",
        "* [0.1, 0.9] represents \"gato\""
      ],
      "metadata": {
        "id": "IKiGh8KjQnFf"
      }
    },
    {
      "cell_type": "code",
      "source": [
        "# Embeddings\n",
        "english_emb = torch.tensor([[1.0, 0.0], [0.0, 1.0]])  # The, cat\n",
        "spanish_emb = torch.tensor([[0.9, 0.1], [0.1, 0.9]])  # El, gato"
      ],
      "metadata": {
        "id": "4fsXFXiRQhxB"
      },
      "execution_count": 2,
      "outputs": []
    },
    {
      "cell_type": "markdown",
      "source": [
        "Now, we need to calculate similarity scores. We do this by multiplying each english embeding with each spanish embedding. This will result in a 2x2 matrix, where, the higher the result the more similarity between the words."
      ],
      "metadata": {
        "id": "JJyROwwMRa_A"
      }
    },
    {
      "cell_type": "code",
      "source": [
        "# Calculate Similarity Score\n",
        "scores = torch.matmul(english_emb, spanish_emb.T)"
      ],
      "metadata": {
        "id": "n_7T1DVxR6WD"
      },
      "execution_count": 3,
      "outputs": []
    },
    {
      "cell_type": "markdown",
      "source": [
        "The maths:\n",
        "* \"The\" $\\cdot$ \"El\" = (1.0x0.9) + (0.0x0.1) = 0.9 (high similarity!)\n",
        "* \"The\" $\\cdot$ \"gato\" = (1.0x0.1) + (0.0x0.9) = 0.1 (low similarity)\n",
        "* \"cat\" $\\cdot$ \"El\" = (0.0x0.9) + (1.0x0.1) = 0.1 (low similarity)\n",
        "* \"cat\" $\\cdot$ \"gato\" = (0.0x0.1) + (1.0x0.9) = 0.9 (high similarity!)"
      ],
      "metadata": {
        "id": "Ezyw81x9SAbH"
      }
    },
    {
      "cell_type": "markdown",
      "source": [
        "Next, we convert the scores to alignment probabilities using the Softmax function.\n",
        "Softmax converts the numerical scores to probabilities between 0 and 1."
      ],
      "metadata": {
        "id": "xg61cvr5YUwg"
      }
    },
    {
      "cell_type": "code",
      "source": [
        "alignment = F.softmax(scores, dim=-1)"
      ],
      "metadata": {
        "id": "MVcRcdwIYnnz"
      },
      "execution_count": 4,
      "outputs": []
    },
    {
      "cell_type": "markdown",
      "source": [
        "And now we can visualize our results using a heatmap."
      ],
      "metadata": {
        "id": "bxk5yZjDYr5u"
      }
    },
    {
      "cell_type": "code",
      "source": [
        "# heatmap\n",
        "plt.figure(figsize=(6, 4))\n",
        "plt.imshow(alignment, cmap='Blues')\n",
        "plt.colorbar()\n",
        "\n",
        "# Labels\n",
        "plt.xticks(range(2), spanish)\n",
        "plt.yticks(range(2), english)\n",
        "plt.xlabel('Spanish')\n",
        "plt.ylabel('English')\n",
        "plt.title('Translation Alignment')\n",
        "\n",
        "# Show values\n",
        "for i in range(2):\n",
        "    for j in range(2):\n",
        "        plt.text(j, i, f'{alignment[i,j]:.2f}',\n",
        "                ha='center', va='center', fontsize=14)\n",
        "\n",
        "plt.show()"
      ],
      "metadata": {
        "colab": {
          "base_uri": "https://localhost:8080/",
          "height": 410
        },
        "id": "3ooEgMJzN2au",
        "outputId": "12952be8-ba91-44ea-a960-c1a51ee05c79"
      },
      "execution_count": 5,
      "outputs": [
        {
          "output_type": "display_data",
          "data": {
            "text/plain": [
              "<Figure size 600x400 with 2 Axes>"
            ],
            "image/png": "[encoded data removed]"
          },
          "metadata": {}
        }
      ]
    },
    {
      "cell_type": "markdown",
      "source": [
        "The results show that:\n",
        "* \"The\" pays 69% attention to \"El\" and 31% to \"gato\"\n",
        "* \"cat\" pays 69% attention to \"gato\" and 31% to \"El\"\n",
        "\n",
        "Therefore, we can see that articles align with articles: \"The\" <--> \"El\"\n",
        "\n",
        "Nouns align with Nouns: \"cat\" <--> \"gato\"\n",
        "\n",
        "And the alignments between \"The\" and \"gato\" are weak."
      ],
      "metadata": {
        "id": "e4hyb3AfY0sK"
      }
    },
    {
      "cell_type": "markdown",
      "source": [
        "In a transformer, the model learns these alignments automatically during training where multiple attention heads learn different types of alignments.\n",
        "\n",
        "The beauty of this process is that the transformer doesnt need to be told that \"The\" should align with \"El\", it figures this out by looking at lots of translation examples and learning that similar words tend to align!"
      ],
      "metadata": {
        "id": "Useco72RZp0Y"
      }
    },
    {
      "cell_type": "markdown",
      "source": [
        "#Part 2: #"
      ],
      "metadata": {
        "id": "mXGeFImt7QXQ"
      }
    },
    {
      "cell_type": "markdown",
      "source": [
        "In this part of the tutorial, we will explore how alignment occurs in Transformers using a small pretrained model.\n",
        "\n",
        "We will go through the following steps:\n",
        "\n",
        "1. Load a small pretrained model 'BERT' and tokenize a short sentence\n",
        "\n",
        "2. Extract hidden states from every layer\n",
        "\n",
        "3. Compute and visualize with simple plots, alignment of singular directions and the **Line-Shape Score (LSS)**"
      ],
      "metadata": {
        "id": "-8M01UQS71VQ"
      }
    },
    {
      "cell_type": "code",
      "source": [
        "# 1. Setup\n",
        "import torch\n",
        "import torch.nn.functional as F\n",
        "from transformers import BertTokenizer, BertModel\n",
        "import matplotlib.pyplot as plt\n",
        "import numpy as np\n",
        "\n",
        "# Load pretrained model 'BERT'\n",
        "tokenizer = BertTokenizer.from_pretrained(\"bert-base-uncased\")\n",
        "model = BertModel.from_pretrained(\"bert-base-uncased\", output_hidden_states=True)\n",
        "model.eval()\n"
      ],
      "metadata": {
        "colab": {
          "base_uri": "https://localhost:8080/",
          "height": 1000,
          "referenced_widgets": [
            "c14d6ef17a3b401fb8541eab1c36282b",
            "a7d38546ef3d4aeea57afd7509f0a1dd",
            "00ab2c5d4fcd46b6857155268750a084",
            "199ba02c3d9d43cc92025679a9136369",
            "fc8c095d7f1b4ce38eec20085e5b73b9",
            "8ab89a62bef74f3f977626d3515ce1bd",
            "d200b9a76f49431f855229d78049fd55",
            "9d725aac9b8a40d4ab9d54db3b409457",
            "f1bc844353014645986600d1ef071c25",
            "b1148e9989e447d99cf25c6d87b2a980",
            "8025ee47b00b4c7e9cae889959c8d5d2",
            "4573207d76ae4e0dbbde1af318930273",
            "8c684af0590344029d559b338f73bb32",
            "c97b49464af5469398508bb44e53cbe2",
            "990dbe5333c7426f921b8242baa7a26a",
            "1c301ff3e4db46c98b37a6e0ed268dee",
            "f14d7240506049998a9852f3c3f00796",
            "f9eab8fc1bf84bc790d3257adc6af39d",
            "fd1fdc2f3de145f9a85605b42eeecacd",
            "e3a2ddbaf0fc471b9dbe925b6f605716",
            "2878c16018fb4bbfa019f9403b7db234",
            "cf0b0131997549d69f5f515ebba1a9c9",
            "2ecf7c8ecdad422d92b1551036af0e0c",
            "10885473edd641b3882a48a00dae8a97",
            "0cf444e4bb6d4c88985196fc7aa76715",
            "306e7551e81c4ed6b41d4c5b9004d761",
            "e69f63d8ed1f405186a398f0b1c81c98",
            "5639d0746fb74c8c8d6b86a2c8991f19",
            "718fdd24f0d04980bb6f225d9a6fc81f",
            "e8e0cfbfbbe64a4fb8a6131725ef870d",
            "1ac7522c7d7d48cfab4de6ec76653971",
            "dc7ebf34cfc2451d8a20104a4d65a39c",
            "6d20b80559ef48409e254106eac0ab23",
            "c5740099f39440a9becef1ab56aef806",
            "41b2a19be33c4c18a69dddaff6e97eef",
            "9e08ea384aa84411ba92c14ba7624442",
            "d3dec51cc4ab4fe3b127f0ece9dd8a99",
            "5b84a1c9163d47c68ebfe8c61b44aebb",
            "b810d5eea891495e9f1af911904a695f",
            "5a655329a3ae44ef8f94641625b7254a",
            "8f7b81168ab04e3482677529d9a4b17a",
            "bf3629c3df524762a09b00b39728ddd7",
            "e6625d19ed25469e8b658754859aef92",
            "b6da578e7e3247a881d069322532f3b8",
            "7553ad53f58c4129b7e57e2533749b01",
            "47494f8fa95f42fc95f2d3b4316458b4",
            "76ac922db6d74d5d9885afc33c51b3b1",
            "5dc358f6a9b24eae88b1399f3cf968b7",
            "ede16439ffd54e2e8e43ae9bbf183b12",
            "19db5ba8c5ac42ffaec19871c7b5a948",
            "a558b61536104e44a47fc414481b64ac",
            "e8c1abc9324b42bfb2a8be03f3774ecb",
            "39fb961327c94a7983e61cf05c53b921",
            "79bef59579f6423580a577c01c99eac1",
            "1c57b979d7184b6db8f79d12c0f0644c"
          ]
        },
        "id": "3re1K13WycBB",
        "outputId": "35a8df32-f8b3-4ec3-f159-9dae97169e26"
      },
      "execution_count": 6,
      "outputs": [
        {
          "output_type": "stream",
          "name": "stderr",
          "text": [
            "/usr/local/lib/python3.12/dist-packages/huggingface_hub/utils/_auth.py:94: UserWarning: \n",
            "The secret `HF_TOKEN` does not exist in your Colab secrets.\n",
            "To authenticate with the Hugging Face Hub, create a token in your settings tab (https://huggingface.co/settings/tokens), set it as secret in your Google Colab and restart your session.\n",
            "You will be able to reuse this secret in all of your notebooks.\n",
            "Please note that authentication is recommended but still optional to access public models or datasets.\n",
            "  warnings.warn(\n"
          ]
        },
        {
          "output_type": "display_data",
          "data": {
            "text/plain": [
              "tokenizer_config.json:   0%|          | 0.00/48.0 [00:00<?, ?B/s]"
            ],
            "application/vnd.jupyter.widget-view+json": {
              "version_major": 2,
              "version_minor": 0,
              "model_id": "c14d6ef17a3b401fb8541eab1c36282b"
            }
          },
          "metadata": {}
        },
        {
          "output_type": "display_data",
          "data": {
            "text/plain": [
              "vocab.txt:   0%|          | 0.00/232k [00:00<?, ?B/s]"
            ],
            "application/vnd.jupyter.widget-view+json": {
              "version_major": 2,
              "version_minor": 0,
              "model_id": "4573207d76ae4e0dbbde1af318930273"
            }
          },
          "metadata": {}
        },
        {
          "output_type": "display_data",
          "data": {
            "text/plain": [
              "tokenizer.json:   0%|          | 0.00/466k [00:00<?, ?B/s]"
            ],
            "application/vnd.jupyter.widget-view+json": {
              "version_major": 2,
              "version_minor": 0,
              "model_id": "2ecf7c8ecdad422d92b1551036af0e0c"
            }
          },
          "metadata": {}
        },
        {
          "output_type": "display_data",
          "data": {
            "text/plain": [
              "config.json:   0%|          | 0.00/570 [00:00<?, ?B/s]"
            ],
            "application/vnd.jupyter.widget-view+json": {
              "version_major": 2,
              "version_minor": 0,
              "model_id": "c5740099f39440a9becef1ab56aef806"
            }
          },
          "metadata": {}
        },
        {
          "output_type": "display_data",
          "data": {
            "text/plain": [
              "model.safetensors:   0%|          | 0.00/440M [00:00<?, ?B/s]"
            ],
            "application/vnd.jupyter.widget-view+json": {
              "version_major": 2,
              "version_minor": 0,
              "model_id": "7553ad53f58c4129b7e57e2533749b01"
            }
          },
          "metadata": {}
        },
        {
          "output_type": "execute_result",
          "data": {
            "text/plain": [
              "BertModel(\n",
              "  (embeddings): BertEmbeddings(\n",
              "    (word_embeddings): Embedding(30522, 768, padding_idx=0)\n",
              "    (position_embeddings): Embedding(512, 768)\n",
              "    (token_type_embeddings): Embedding(2, 768)\n",
              "    (LayerNorm): LayerNorm((768,), eps=1e-12, elementwise_affine=True)\n",
              "    (dropout): Dropout(p=0.1, inplace=False)\n",
              "  )\n",
              "  (encoder): BertEncoder(\n",
              "    (layer): ModuleList(\n",
              "      (0-11): 12 x BertLayer(\n",
              "        (attention): BertAttention(\n",
              "          (self): BertSdpaSelfAttention(\n",
              "            (query): Linear(in_features=768, out_features=768, bias=True)\n",
              "            (key): Linear(in_features=768, out_features=768, bias=True)\n",
              "            (value): Linear(in_features=768, out_features=768, bias=True)\n",
              "            (dropout): Dropout(p=0.1, inplace=False)\n",
              "          )\n",
              "          (output): BertSelfOutput(\n",
              "            (dense): Linear(in_features=768, out_features=768, bias=True)\n",
              "            (LayerNorm): LayerNorm((768,), eps=1e-12, elementwise_affine=True)\n",
              "            (dropout): Dropout(p=0.1, inplace=False)\n",
              "          )\n",
              "        )\n",
              "        (intermediate): BertIntermediate(\n",
              "          (dense): Linear(in_features=768, out_features=3072, bias=True)\n",
              "          (intermediate_act_fn): GELUActivation()\n",
              "        )\n",
              "        (output): BertOutput(\n",
              "          (dense): Linear(in_features=3072, out_features=768, bias=True)\n",
              "          (LayerNorm): LayerNorm((768,), eps=1e-12, elementwise_affine=True)\n",
              "          (dropout): Dropout(p=0.1, inplace=False)\n",
              "        )\n",
              "      )\n",
              "    )\n",
              "  )\n",
              "  (pooler): BertPooler(\n",
              "    (dense): Linear(in_features=768, out_features=768, bias=True)\n",
              "    (activation): Tanh()\n",
              "  )\n",
              ")"
            ]
          },
          "metadata": {},
          "execution_count": 6
        }
      ]
    },
    {
      "cell_type": "markdown",
      "source": [
        "Now that we have loaded our model, lets **tokeinze** a simple sentence: \"Welcome to the future\"\n",
        "\n",
        "We tokenize this sentence and pass it through BERT.\n",
        "\n",
        "By using 'output_hidden_state', we can inspect the embeddings produced at every layer."
      ],
      "metadata": {
        "id": "4APIzL6_-3t5"
      }
    },
    {
      "cell_type": "code",
      "source": [
        "## 2. Tokenize the simple sentence:\n",
        "sentence = \"Welcome to the future\"\n",
        "inputs = tokenizer(sentence, return_tensors=\"pt\")\n",
        "\n",
        "## And extract the hidden states\n",
        "\n",
        "with torch.no_grad():\n",
        "    outputs = model(**inputs)\n",
        "    hidden_states = outputs.hidden_states  # tuple: one tensor per layer\n",
        "\n",
        "print(f\"Number of layers (including embedding): {len(hidden_states)}\")\n",
        "print(f\"Shape of each layer output: {hidden_states[0].shape}\")\n"
      ],
      "metadata": {
        "colab": {
          "base_uri": "https://localhost:8080/"
        },
        "id": "rxxh1q1KyvQF",
        "outputId": "5a3022de-4a2b-4725-9104-61f6fa240641"
      },
      "execution_count": null,
      "outputs": [
        {
          "output_type": "stream",
          "name": "stdout",
          "text": [
            "Number of layers (including embedding): 13\n",
            "Shape of each layer output: torch.Size([1, 6, 768])\n"
          ]
        }
      ]
    },
    {
      "cell_type": "markdown",
      "source": [
        "Next, we will look how the embeddings of each token grow in norm as we pass through the layers. The embeddings are supposed to grow in an exponential form.\n",
        "\n",
        "$$ ||x^{(t)}|| = Ce^{\\lambda t}$$\n"
      ],
      "metadata": {
        "id": "bvto4Bb1DA1U"
      }
    },
    {
      "cell_type": "code",
      "source": [
        "## Using CLS token representation (index 0) at each layer\n",
        "\n",
        "cls_embeddings = [h[0,0,:].numpy() for h in hidden_states]\n",
        "norms = [np.linalg.norm(v) for v in cls_embeddings]\n",
        "\n",
        "plt.figure()\n",
        "plt.plot(range(len(norms)), norms, marker='o')\n",
        "plt.title(\"Exponential Growth of Embedding Norms Across Layers\")\n",
        "plt.xlabel(\"Layer\")\n",
        "plt.ylabel(\"Norm ||x||\")\n",
        "plt.show()\n"
      ],
      "metadata": {
        "colab": {
          "base_uri": "https://localhost:8080/",
          "height": 472
        },
        "id": "GqNVQazW9kDz",
        "outputId": "944e5ff7-d0ef-4373-9d4e-34ddcb86b426"
      },
      "execution_count": null,
      "outputs": [
        {
          "output_type": "display_data",
          "data": {
            "text/plain": [
              "<Figure size 640x480 with 1 Axes>"
            ],
            "image/png": "[encoded data removed]"
          },
          "metadata": {}
        }
      ]
    },
    {
      "cell_type": "markdown",
      "source": [
        "It can be observed that from the layers 1 to 6 the embedding norms grow exponentially."
      ],
      "metadata": {
        "id": "RIkbqKNHGybX"
      }
    },
    {
      "cell_type": "markdown",
      "source": [
        "Now we will compute **Singular Vector alignment**.\n",
        "\n",
        "For this tutorial instead of using Jacobians we will approximate alignment by looking at the principal direction of variance via **PCA (Principal Component Analysis)** in each layers token embeddings.\n",
        "\n",
        "[https://en.wikipedia.org/wiki/Principal_component_analysis]\n"
      ],
      "metadata": {
        "id": "cI1lZM6aFCOA"
      }
    },
    {
      "cell_type": "code",
      "source": [
        "## 4. Singular vector alignment\n",
        "\n",
        "from sklearn.decomposition import PCA\n",
        "\n",
        "## Stacking all token embeddings from a layer -> Perform PCA -> take top singular vector\n",
        "pcs = []\n",
        "for h in hidden_states:\n",
        "    X = h[0,:,:].numpy()  # tokens x dim\n",
        "    pca = PCA(n_components=1)\n",
        "    pca.fit(X) # performing PCA\n",
        "    pcs.append(pca.components_[0])  # top Principal component\n",
        "\n",
        "## Computing alignment: cosine similarity of top PCs between consecutive layers\n",
        "cos_sims = [np.dot(pcs[i], pcs[i+1]) for i in range(len(pcs)-1)]\n",
        "\n",
        "plt.figure()\n",
        "plt.plot(range(1, len(pcs)), cos_sims, marker='o')\n",
        "plt.title(\"Singular Vector Alignment Across Layers\")\n",
        "plt.xlabel(\"Layer index\")\n",
        "plt.ylabel(\"Cosine similarity (top PC)\")\n",
        "plt.ylim(0,1.05)\n",
        "plt.show()\n"
      ],
      "metadata": {
        "colab": {
          "base_uri": "https://localhost:8080/",
          "height": 472
        },
        "id": "PHIMXzoEy8oR",
        "outputId": "fea4b029-3bf4-49df-cf50-59192f1c54dc"
      },
      "execution_count": null,
      "outputs": [
        {
          "output_type": "display_data",
          "data": {
            "text/plain": [
              "<Figure size 640x480 with 1 Axes>"
            ],
            "image/png": "[encoded data removed]"
          },
          "metadata": {}
        }
      ]
    },
    {
      "cell_type": "markdown",
      "source": [
        "As you can see from the above plot, most of the directions stay consistent across layers, hence we can say that the model has low misalignment."
      ],
      "metadata": {
        "id": "iBleavoAF1ko"
      }
    },
    {
      "cell_type": "markdown",
      "source": [
        "In the end, we will compute the **Line-Shape Score (LSS)**, to check whether the trajcetory of the embeddings across layers is linear.\n",
        "\n",
        "The LSS is given by:\n",
        "\n",
        "$$  LSS = \\frac{||\\Delta^2x(t)||}{||\\Delta x(t)||} $$\n",
        "\n",
        "Its important to note that:\n",
        "\n",
        "*   If embeddings move in a straight line -> LSS is small\n",
        "*   If they curve a lot across the layers -> LSS is larger\n",
        "\n",
        "We will compute this using finite differences in the embeddings and also make a visualization by plotting the trajectory in 2D PCA space.\n",
        "\n"
      ],
      "metadata": {
        "id": "r-MSQqpPHLHn"
      }
    },
    {
      "cell_type": "code",
      "source": [
        "## 5. Line-Shape Score (LSS) for trajectory linearity\n",
        "cls_embeddings = np.array(cls_embeddings)  # (layers x dim)\n",
        "\n",
        "## First and Second Differences\n",
        "dx = np.diff(cls_embeddings, axis=0)\n",
        "d2x = np.diff(dx, axis=0)\n",
        "\n",
        "LSS = np.sum(np.linalg.norm(d2x, axis=1)) / np.sum(np.linalg.norm(dx, axis=1))\n",
        "print(f\"Line-Shape Score (LSS): {LSS:.4f}\")\n",
        "\n",
        "## Visualization: PCA projection of CLS trajectory\n",
        "pca = PCA(n_components=2)\n",
        "proj = pca.fit_transform(cls_embeddings)\n",
        "\n",
        "plt.figure()\n",
        "plt.plot(proj[:,0], proj[:,1], marker='o')\n",
        "for i, (x, y) in enumerate(proj):\n",
        "    plt.text(x, y, str(i))  # layer index\n",
        "plt.title(\"Embedding Trajectory Across Layers (PCA projection)\")\n",
        "plt.xlabel(\"PC1\")\n",
        "plt.ylabel(\"PC2\")\n",
        "plt.show()\n"
      ],
      "metadata": {
        "colab": {
          "base_uri": "https://localhost:8080/",
          "height": 489
        },
        "id": "f7bf4HigzHtz",
        "outputId": "94590378-d485-483e-f775-6057a2e7bfd7"
      },
      "execution_count": null,
      "outputs": [
        {
          "output_type": "stream",
          "name": "stdout",
          "text": [
            "Line-Shape Score (LSS): 1.2703\n"
          ]
        },
        {
          "output_type": "display_data",
          "data": {
            "text/plain": [
              "<Figure size 640x480 with 1 Axes>"
            ],
            "image/png": "[encoded data removed]"
          },
          "metadata": {}
        }
      ]
    },
    {
      "cell_type": "markdown",
      "source": [
        "Summary Part 2:\n",
        "\n",
        "As we have seen,\n",
        "* Norm growth shows embeddings often scale expoentially with depth\n",
        "* Singular vector alignment shows dominant transformation directions remain consistent\n",
        "* LSS shows embeddings move in nearly straight line trajectories across layers\n",
        "\n",
        "These are all properties that show Alignment is a measurable, mathematical phenomenon in Transformers."
      ],
      "metadata": {
        "id": "IEfizfKeLcF3"
      }
    }
  ]
}