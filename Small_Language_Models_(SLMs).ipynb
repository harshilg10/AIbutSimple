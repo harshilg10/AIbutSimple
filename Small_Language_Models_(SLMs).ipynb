{
  "nbformat": 4,
  "nbformat_minor": 0,
  "metadata": {
    "colab": {
      "provenance": [],
      "gpuType": "T4"
    },
    "kernelspec": {
      "name": "python3",
      "display_name": "Python 3"
    },
    "language_info": {
      "name": "python"
    },
    "accelerator": "GPU"
  },
  "cells": [
    {
      "cell_type": "markdown",
      "source": [
        "# **Small Language Models (SLMs)**\n",
        "In this Python notebook, we'll learn how to use and compare multiple SLMs through tasks like chatting, summarization, and reasoning.\n",
        "\n",
        "We'll visualize and measure their inference speed and output quality, and use more advanced/niche techniques such as LoRA and quantization for better inference speed and efficiency. All of the code should run on a free Colab GPU.\n",
        "\n",
        "The code will have comments and explanations for clarity. Happy Learning!\n",
        "\n",
        "—AI, But Simple Team\n",
        "\n",
        "![SLMs enough for small applications (1080 x 550 px) (1).png](data:image/png;base64,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)"
      ],
      "metadata": {
        "id": "kt1zo624RR5U"
      }
    },
    {
      "cell_type": "markdown",
      "source": [
        "## **Importing Libraries**\n",
        "To start, we'll install and import the necessary libraries. We use the HuggingFace Transformers library for loading models, PEFT for LoRA, and bitsandbytes for quantization (we'll import those later).\n",
        "\n",
        "We’ll also use the standard deep learning libraries like PyTorch, and common utilities like time for benchmarking.\n",
        "\n",
        "In Colab, you can install libraries with !pip (the code below includes this step, but skip it if already installed)."
      ],
      "metadata": {
        "id": "TPkyD3rvRUpW"
      }
    },
    {
      "cell_type": "code",
      "source": [
        "# Skip the below line if libraries are already installed. Otherwise, uncomment the line to install.\n",
        "# !pip install transformers torch accelerate peft bitsandbytes matplotlib seaborn\n",
        "\n",
        "!pip install \"auto-round>=0.5\" # needed to load the quantized phi model"
      ],
      "metadata": {
        "collapsed": true,
        "id": "_MpsVQJKlBCo"
      },
      "execution_count": null,
      "outputs": []
    },
    {
      "cell_type": "code",
      "execution_count": null,
      "metadata": {
        "id": "2zgyrsBhRJNp"
      },
      "outputs": [],
      "source": [
        "import time\n",
        "import math\n",
        "import torch\n",
        "\n",
        "# Check for GPU\n",
        "device = 'cuda' if torch.cuda.is_available() else 'cpu'\n",
        "print(f\"Current device: {device.upper()}\")"
      ]
    },
    {
      "cell_type": "markdown",
      "source": [
        "## **Loading Models and Tokenizers**\n",
        "\n",
        "We load our models from HuggingFace. For chat generation, we use a GPT-style language model. This type of model is called a causal model. We'll use:\n",
        "\n",
        "* GPT-2 small (124M parameters),\n",
        "* DistilGPT2 (82M parameters),\n",
        "* TinyLlama-1.1B (1B parameters),\n",
        "\n",
        "For summarization, we use sequence-to-sequence models:\n",
        "\n",
        "* T5-small (~60M params) versatile for many text tasks.\n",
        "* Optionally, DistilBART-CNN (sshleifer/distilbart-cnn-12-6, ~306M) for summarization benchmarks (faster than BART-large).\n",
        "\n",
        "For reasoning tasks we'll specifically use Phi-2 (2.7B parameters).\n",
        "\n",
        "Below, we load these models and tokenizers. We set them to evaluation mode and move them to the correct device."
      ],
      "metadata": {
        "id": "PHqgf2hCrgMj"
      }
    },
    {
      "cell_type": "code",
      "source": [
        "from transformers import AutoModelForCausalLM, AutoModelForSeq2SeqLM, AutoTokenizer\n",
        "\n",
        "# Define model identifiers\n",
        "model_ids = {\n",
        "    \"gpt2\": \"gpt2\",\n",
        "    \"distilgpt2\": \"distilgpt2\",\n",
        "    \"tinyllama\": \"PY007/TinyLlama-1.1B-step-50K-105b\",  # TinyLlama 1.1B\n",
        "    \"t5-small\": \"t5-small\",\n",
        "    # Optional larger summarizer for comparison:\n",
        "    # \"distilbart-cnn\": \"sshleifer/distilbart-cnn-12-6\"\n",
        "    \"phi-2\": \"itachi023/phi-2-4-bit-quantized\" # Phi-2 2.7B (Quantized)\n",
        "}\n",
        "\n",
        "# Load causal models\n",
        "causal_models = {}\n",
        "for name in [\"gpt2\", \"distilgpt2\", \"tinyllama\", \"phi-2\"]:\n",
        "    print(f\"Loading {name}...\")\n",
        "    model = AutoModelForCausalLM.from_pretrained(model_ids[name]).to(device)\n",
        "    tokenizer = AutoTokenizer.from_pretrained(model_ids[name])\n",
        "    # For GPT-2 variants, set padding side (needed to handle token inputs)\n",
        "    tokenizer.padding_side = \"left\"\n",
        "    tokenizer.truncation_side = \"left\"\n",
        "    model.eval()\n",
        "    causal_models[name] = (model, tokenizer)\n",
        "\n",
        "# Load T5 (seq2seq model)\n",
        "print(\"Loading T5-small for summarization...\")\n",
        "t5_model = AutoModelForSeq2SeqLM.from_pretrained(model_ids[\"t5-small\"]).to(device)\n",
        "t5_token = AutoTokenizer.from_pretrained(model_ids[\"t5-small\"])\n",
        "t5_model.eval()"
      ],
      "metadata": {
        "id": "rHuGR4QxtphH"
      },
      "execution_count": null,
      "outputs": []
    },
    {
      "cell_type": "markdown",
      "source": [
        "Let's check the parameter counts of all of our models."
      ],
      "metadata": {
        "id": "84wikFf31P39"
      }
    },
    {
      "cell_type": "code",
      "source": [
        "for name, (model, _) in causal_models.items():\n",
        "    params = sum(p.numel() for p in model.parameters())\n",
        "    print(f\"Model {name}: {params/1e6:.1f}M parameters\")\n",
        "print(f\"T5-small: {sum(p.numel() for p in t5_model.parameters())/1e6:.1f}M parameters\")"
      ],
      "metadata": {
        "id": "QYLcPzFo1SVe"
      },
      "execution_count": null,
      "outputs": []
    },
    {
      "cell_type": "markdown",
      "source": [
        "Note that the phi-2 quantized model shows only 260M parameters, but this is due to the paramaters being compressed from quantization."
      ],
      "metadata": {
        "id": "lwz878qPmcmu"
      }
    },
    {
      "cell_type": "markdown",
      "source": [
        "## **Chatbot Example**\n",
        " Let’s try a simple chatbot-style prompt with each model. We use a short prompt and generate a response. For causal models, we can use the generate method directly. We use the pipeline for convenience, which handles tokenization along with generation."
      ],
      "metadata": {
        "id": "8FObQUkP1eBy"
      }
    },
    {
      "cell_type": "code",
      "source": [
        "from transformers import pipeline, set_seed\n",
        "\n",
        "prompt = \"What is your favorite food?\"\n",
        "max_len = 100  # max new tokens to generate\n",
        "\n",
        "print(\"Chatbot-style responses:\")\n",
        "for name, (model, tokenizer) in causal_models.items():\n",
        "    print(f\"\\n[{name}] Prompt: {prompt}\")\n",
        "\n",
        "    # Using pipeline for convenience\n",
        "    generator = pipeline(\"text-generation\", model=model, tokenizer=tokenizer, device=0 if device=='cuda' else -1)\n",
        "\n",
        "    set_seed(42)  # for reproducibility\n",
        "    outputs = generator(prompt, max_new_tokens=max_len, do_sample=True, top_p=0.95) # stochastic generation (do_sample=True), the outputs will vary\n",
        "    for i, out in enumerate(outputs):\n",
        "        text = out[\"generated_text\"]\n",
        "        print(f\"  Response: {text[len(prompt):]}\")"
      ],
      "metadata": {
        "id": "qzGaj78m1hSq"
      },
      "execution_count": null,
      "outputs": []
    },
    {
      "cell_type": "markdown",
      "source": [
        "## **Text Summarization Example**\n",
        "For the summarzation example, we'll use a paragraph of dummy news text and let a summarization model shorten it.\n",
        "\n",
        "Here, we use our sequence-to-sequence T5-small model as the summarization model. We'll also continue using the pipeline for convenience."
      ],
      "metadata": {
        "id": "9sy7XCUkX53r"
      }
    },
    {
      "cell_type": "code",
      "source": [
        "article = (\n",
        "    \"The city's public transportation department announced new measures today. \"\n",
        "    \"According to officials, bus schedules will be increased by 20% during peak hours \"\n",
        "    \"to reduce overcrowding. The mayor stated that this change comes in response to \"\n",
        "    \"surveys indicating commuter dissatisfaction with current wait times. Environmental \"\n",
        "    \"groups have praised the move, noting that improved transit could lead to reduced traffic and emissions.\"\n",
        ")\n",
        "\n",
        "# Summarize using T5-small\n",
        "summarizer = pipeline(\"summarization\", model=t5_model, tokenizer=t5_token, device=0 if device=='cuda' else -1)\n",
        "summary = summarizer(article, max_length=40, min_length=10, do_sample=False)\n",
        "print(\"T5-small summary:\", summary[0]['summary_text'])"
      ],
      "metadata": {
        "id": "268YSUECYOc-"
      },
      "execution_count": null,
      "outputs": []
    },
    {
      "cell_type": "markdown",
      "source": [
        "## **Reasoning Example**\n",
        "We can also test how these models handle simple reasoning. For example: \"*Five people are in a 100m race. Person A finished before person B, but behind person C. Person D finished before person E, but behind person B. What was the finishing order?*\"\n",
        "\n",
        "We keep the prompt simple (zero-shot), but we can use multi-shot prompting to try to improve the result."
      ],
      "metadata": {
        "id": "J6K4ucD7Yi4F"
      }
    },
    {
      "cell_type": "code",
      "source": [
        "question = \"Five people are in a 100m race. Person A finished before person B, but behind person C. Person D finished before person E, but behind person B. What was the finishing order?\"\n",
        "print(\"Reasoning prompt:\", question)\n",
        "\n",
        "model, tokenizer = causal_models[\"phi-2\"]\n",
        "\n",
        "# Setup generation pipeline\n",
        "generator = pipeline(\n",
        "    \"text-generation\",\n",
        "    model=model,\n",
        "    tokenizer=tokenizer,\n",
        "    device=0 if device == 'cuda' else -1\n",
        ")\n",
        "\n",
        "set_seed(123)\n",
        "\n",
        "# Generate response\n",
        "output = generator(question, do_sample=False)[0]['generated_text']\n",
        "\n",
        "# Strip the prompt from the output\n",
        "answer = output[len(question):].strip()\n",
        "print(f\"\\n[{\"phi-2\"}] Answer:\", answer)"
      ],
      "metadata": {
        "id": "uk4EKzjwYk6T"
      },
      "execution_count": null,
      "outputs": []
    },
    {
      "cell_type": "markdown",
      "source": [
        "## Benchmarking\n",
        "\n",
        "To compare speed and output length, we benchmark inference latency and average response length for each model.\n",
        "\n",
        "To do this, we use Python’s time library and generate a number of tokens. We then visualize results with matplotlib. You are encouraged to run this loop multiple times to see the average."
      ],
      "metadata": {
        "id": "4zxXvZdibYOf"
      }
    },
    {
      "cell_type": "code",
      "source": [
        "import numpy as np\n",
        "import matplotlib.pyplot as plt\n",
        "import seaborn as sns\n",
        "\n",
        "models_to_test = [\"gpt2\", \"distilgpt2\", \"t5-small\", \"tinyllama\", \"phi-2\"]\n",
        "latencies = []\n",
        "\n",
        "prompt = \"Generate a story of a dog and a cat.\"\n",
        "\n",
        "for name in models_to_test:\n",
        "    model, tokenizer = (causal_models[name] if name in causal_models\n",
        "                        else (t5_model, t5_token))\n",
        "    # Prepare input tokens\n",
        "    inputs = tokenizer(prompt, return_tensors=\"pt\").to(device)\n",
        "    # Warm-up (usually slower and not representative of actual time)\n",
        "    _ = model.generate(**inputs, max_new_tokens=50, pad_token_id=tokenizer.eos_token_id)\n",
        "    # Time multiple runs\n",
        "    runs = 3\n",
        "    total_time = 0.0\n",
        "    total_len = 0\n",
        "    for _ in range(runs):\n",
        "        start = time.time()\n",
        "        outputs = model.generate(**inputs, max_new_tokens = 100, pad_token_id=tokenizer.eos_token_id)\n",
        "        end = time.time()\n",
        "        total_time += (end - start)\n",
        "    avg_time = total_time / runs\n",
        "    latencies.append(avg_time)\n",
        "    print(f\"{name}: Avg latency = {avg_time:.3f}s\")"
      ],
      "metadata": {
        "id": "Nt4CuoiYbXyh"
      },
      "execution_count": null,
      "outputs": []
    },
    {
      "cell_type": "markdown",
      "source": [
        "We plot the results below using bar charts."
      ],
      "metadata": {
        "id": "WW7wyC3Edl2h"
      }
    },
    {
      "cell_type": "code",
      "source": [
        "sns.set_style(\"whitegrid\")\n",
        "# Inference Latency\n",
        "plt.figure(figsize=(6,4))\n",
        "sns.barplot(x=models_to_test, y=latencies, palette=\"Set2\")\n",
        "plt.ylabel(\"Avg Latency (s)\")\n",
        "plt.title(\"Inference Latency per Model\")\n",
        "plt.show()"
      ],
      "metadata": {
        "id": "5ZTw61_odmlN"
      },
      "execution_count": null,
      "outputs": []
    },
    {
      "cell_type": "markdown",
      "source": [
        "The charts would show that larger models are slower per token than the tiny models. This is especially true for phi-2, since it is also a reasoning model. The output lengths are all set to 100 new tokens, so lengths should be similar."
      ],
      "metadata": {
        "id": "-t7XDupHeOUV"
      }
    }
  ]
}